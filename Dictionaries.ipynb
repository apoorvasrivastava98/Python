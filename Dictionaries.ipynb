{
 "cells": [
  {
   "cell_type": "code",
   "execution_count": 6,
   "metadata": {},
   "outputs": [],
   "source": [
    "#List is a collection which is ordered and changeable. Allows duplicate members.\n",
    "#Tuple is a collection which is ordered and unchangeable. Allows duplicate members.\n",
    "#Set is a collection which is unordered and unindexed. No duplicate members.\n",
    "#Dictionary is a collection which is unordered and changeable. No duplicate members."
   ]
  },
  {
   "cell_type": "code",
   "execution_count": 7,
   "metadata": {},
   "outputs": [
    {
     "name": "stdout",
     "output_type": "stream",
     "text": [
      "{1: 'Apple', 2: 'Mango', 3: 'Papaya', 4: 'Grapes'}\n"
     ]
    }
   ],
   "source": [
    "#Dictionary with the use of Integer Keys\n",
    "Dict = {1: 'Apple', 2: 'Mango', 3: 'Papaya', 4: 'Grapes'}  \n",
    "print(Dict)"
   ]
  },
  {
   "cell_type": "code",
   "execution_count": 8,
   "metadata": {},
   "outputs": [
    {
     "name": "stdout",
     "output_type": "stream",
     "text": [
      "{1: 'Apple', 2: 'Mango', 3: 'Papaya', 4: 'Grapes'}\n"
     ]
    }
   ],
   "source": [
    "#Dictionary with the use of Mixed Keys\n",
    "Dict1 = {'Apple': 'Mango', 1: [1, 2, 3, 4]} \n",
    "print(Dict) "
   ]
  },
  {
   "cell_type": "code",
   "execution_count": 9,
   "metadata": {},
   "outputs": [
    {
     "name": "stdout",
     "output_type": "stream",
     "text": [
      "{}\n"
     ]
    }
   ],
   "source": [
    "#Empty Dictionary\n",
    "Dictemp={}\n",
    "print(Dictemp)"
   ]
  },
  {
   "cell_type": "code",
   "execution_count": 10,
   "metadata": {},
   "outputs": [
    {
     "name": "stdout",
     "output_type": "stream",
     "text": [
      "4\n",
      "0\n"
     ]
    }
   ],
   "source": [
    "#len function\n",
    "print(len(Dict))\n",
    "print(len(Dictemp))"
   ]
  },
  {
   "cell_type": "code",
   "execution_count": 11,
   "metadata": {},
   "outputs": [
    {
     "name": "stdout",
     "output_type": "stream",
     "text": [
      "<class 'dict'>\n"
     ]
    }
   ],
   "source": [
    "#type function\n",
    "print(type(Dict))"
   ]
  },
  {
   "cell_type": "code",
   "execution_count": 14,
   "metadata": {},
   "outputs": [
    {
     "name": "stdout",
     "output_type": "stream",
     "text": [
      "{2: 'Mango', 3: 'Papaya', 4: 'Grapes'}\n"
     ]
    }
   ],
   "source": [
    "#del function\n",
    "del Dict[1]\n",
    "print(Dict)"
   ]
  },
  {
   "cell_type": "code",
   "execution_count": 15,
   "metadata": {},
   "outputs": [
    {
     "data": {
      "text/plain": [
       "dict_keys([2, 3, 4])"
      ]
     },
     "execution_count": 15,
     "metadata": {},
     "output_type": "execute_result"
    }
   ],
   "source": [
    "#keys method\n",
    "Dict.keys()"
   ]
  },
  {
   "cell_type": "code",
   "execution_count": 18,
   "metadata": {},
   "outputs": [
    {
     "name": "stdout",
     "output_type": "stream",
     "text": [
      "{2: 'Mango', 3: 'Papaya', 4: 'Grapes', 8: 'Banana', 9: 'Orange'}\n"
     ]
    }
   ],
   "source": [
    "#update function\n",
    "Dict[8]='Banana'\n",
    "Dict[9]='Orange'\n",
    "print(Dict)"
   ]
  },
  {
   "cell_type": "code",
   "execution_count": 19,
   "metadata": {},
   "outputs": [
    {
     "name": "stdout",
     "output_type": "stream",
     "text": [
      "dict_items([(2, 'Mango'), (3, 'Papaya'), (4, 'Grapes'), (8, 'Banana'), (9, 'Orange')])\n"
     ]
    }
   ],
   "source": [
    "#items method\n",
    "x=Dict.items()\n",
    "print(x)"
   ]
  },
  {
   "cell_type": "code",
   "execution_count": 32,
   "metadata": {},
   "outputs": [
    {
     "name": "stdout",
     "output_type": "stream",
     "text": [
      "{2: 'Strawberry', 3: 'Papaya', 4: 'Grapes', 8: 'Banana', 1: 'Apple', 'Guava': 20}\n",
      "{2: 'Strawberry', 3: 'Papaya', 4: 'Grapes', 8: 'Banana', 1: 'Apple', 'Guava': 20}\n",
      "{2: 'Strawberry', 3: 'Papaya', 4: 'Grapes', 8: 'Banana', 1: 'Apple', 'Guava': 20}\n"
     ]
    }
   ],
   "source": [
    "#Update method\n",
    "d1 = {2: \"Strawberry\"}\n",
    "\n",
    "# updates the value of key 2\n",
    "Dict.update(d1)\n",
    "print(Dict)\n",
    "\n",
    "d1 = {1: \"Apple\"}\n",
    "\n",
    "# adds element with key 3\n",
    "Dict.update(d1)\n",
    "print(Dict)\n",
    "\n",
    "#method 2\n",
    "Dict.update({\"Guava\": 20})\n",
    "print(Dict)"
   ]
  },
  {
   "cell_type": "code",
   "execution_count": 33,
   "metadata": {},
   "outputs": [
    {
     "name": "stdout",
     "output_type": "stream",
     "text": [
      "dict_values(['Strawberry', 'Papaya', 'Grapes', 'Banana', 'Apple', 20])\n"
     ]
    }
   ],
   "source": [
    "#values method\n",
    "x=Dict.values()\n",
    "print(x)"
   ]
  },
  {
   "cell_type": "code",
   "execution_count": 34,
   "metadata": {},
   "outputs": [
    {
     "name": "stdout",
     "output_type": "stream",
     "text": [
      "Strawberry\n"
     ]
    }
   ],
   "source": [
    "#get method\n",
    "x=Dict.get(2)\n",
    "print(x)"
   ]
  },
  {
   "cell_type": "code",
   "execution_count": 36,
   "metadata": {},
   "outputs": [
    {
     "name": "stdout",
     "output_type": "stream",
     "text": [
      "{2: 'Strawberry', 3: 'Papaya', 4: 'Grapes', 1: 'Apple', 'Guava': 20}\n"
     ]
    }
   ],
   "source": [
    "#pop method\n",
    "Dict.pop(8)\n",
    "print(Dict)"
   ]
  },
  {
   "cell_type": "code",
   "execution_count": 29,
   "metadata": {},
   "outputs": [
    {
     "name": "stdout",
     "output_type": "stream",
     "text": [
      "yes\n"
     ]
    }
   ],
   "source": [
    "#check whether the value is present or not\n",
    "if 1 in Dict:\n",
    "    print (\"yes\")"
   ]
  },
  {
   "cell_type": "code",
   "execution_count": 38,
   "metadata": {},
   "outputs": [
    {
     "name": "stdout",
     "output_type": "stream",
     "text": [
      "{2: 'Strawberry', 3: 'Papaya', 4: 'Grapes', 1: 'Apple', 'Guava': 20, 'Banana': 8, 'Orange': 9}\n"
     ]
    }
   ],
   "source": [
    "Dict.update({\"Banana\":8})\n",
    "Dict.update({\"Orange\":9})\n",
    "print(Dict)"
   ]
  },
  {
   "cell_type": "code",
   "execution_count": null,
   "metadata": {},
   "outputs": [],
   "source": []
  }
 ],
 "metadata": {
  "kernelspec": {
   "display_name": "Python 3",
   "language": "python",
   "name": "python3"
  },
  "language_info": {
   "codemirror_mode": {
    "name": "ipython",
    "version": 3
   },
   "file_extension": ".py",
   "mimetype": "text/x-python",
   "name": "python",
   "nbconvert_exporter": "python",
   "pygments_lexer": "ipython3",
   "version": "3.7.3"
  }
 },
 "nbformat": 4,
 "nbformat_minor": 4
}
