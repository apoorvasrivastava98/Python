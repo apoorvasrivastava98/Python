{
 "cells": [
  {
   "cell_type": "code",
   "execution_count": 5,
   "metadata": {},
   "outputs": [
    {
     "name": "stdout",
     "output_type": "stream",
     "text": [
      "*     *\n",
      "**   **\n",
      "* * * *\n",
      "*  *  *\n",
      "*     *\n",
      "*     *\n",
      "*     *\n"
     ]
    }
   ],
   "source": [
    "for row in range(0,7):\n",
    "    for col in range(0,7):\n",
    "        if (col==0 or col==6):\n",
    "            print(\"*\",end=\"\")\n",
    "        elif(row==1 and (col==1 or col==5)):\n",
    "            print(\"*\",end=\"\")\n",
    "        elif(row==2 and (col==2 or col==4)):\n",
    "            print(\"*\",end=\"\")\n",
    "        elif(row==col==3):\n",
    "            print(\"*\",end=\"\")\n",
    "        else:\n",
    "            print(\" \",end=\"\")\n",
    "    print()"
   ]
  }
 ],
 "metadata": {
  "kernelspec": {
   "display_name": "Python 3",
   "language": "python",
   "name": "python3"
  },
  "language_info": {
   "codemirror_mode": {
    "name": "ipython",
    "version": 3
   },
   "file_extension": ".py",
   "mimetype": "text/x-python",
   "name": "python",
   "nbconvert_exporter": "python",
   "pygments_lexer": "ipython3",
   "version": "3.7.3"
  }
 },
 "nbformat": 4,
 "nbformat_minor": 4
}
