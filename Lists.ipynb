{
 "cells": [
  {
   "cell_type": "code",
   "execution_count": 5,
   "metadata": {},
   "outputs": [],
   "source": [
    "#List is a collection which is ordered and changeable. Allows duplicate members.\n",
    "#Tuple is a collection which is ordered and unchangeable. Allows duplicate members.\n",
    "#Set is a collection which is unordered and unindexed. No duplicate members.\n",
    "#Dictionary is a collection which is unordered and changeable. No duplicate members."
   ]
  },
  {
   "cell_type": "code",
   "execution_count": 15,
   "metadata": {},
   "outputs": [
    {
     "name": "stdout",
     "output_type": "stream",
     "text": [
      "['Apple', 'Mango', 'Papaya', 'Grapes']\n"
     ]
    }
   ],
   "source": [
    "list=[\"Apple\",\"Mango\",\"Papaya\",\"Grapes\"]\n",
    "print(list)"
   ]
  },
  {
   "cell_type": "code",
   "execution_count": 16,
   "metadata": {},
   "outputs": [
    {
     "name": "stdout",
     "output_type": "stream",
     "text": [
      "4\n"
     ]
    }
   ],
   "source": [
    "#len function\n",
    "print(len(list))"
   ]
  },
  {
   "cell_type": "code",
   "execution_count": 17,
   "metadata": {},
   "outputs": [
    {
     "name": "stdout",
     "output_type": "stream",
     "text": [
      "<class 'list'>\n"
     ]
    }
   ],
   "source": [
    "#type function\n",
    "print(type(list))"
   ]
  },
  {
   "cell_type": "code",
   "execution_count": 18,
   "metadata": {},
   "outputs": [
    {
     "name": "stdout",
     "output_type": "stream",
     "text": [
      "['Apple', 'Mango', 'Papaya', 'Grapes', 'Orange']\n"
     ]
    }
   ],
   "source": [
    "#append function\n",
    "list.append(\"Orange\")\n",
    "print(list)"
   ]
  },
  {
   "cell_type": "code",
   "execution_count": 19,
   "metadata": {},
   "outputs": [
    {
     "name": "stdout",
     "output_type": "stream",
     "text": [
      "1\n"
     ]
    }
   ],
   "source": [
    "#count function (Number of times a specified element exists)\n",
    "count= list.count(\"Apple\")\n",
    "print(count)"
   ]
  },
  {
   "cell_type": "code",
   "execution_count": 27,
   "metadata": {},
   "outputs": [
    {
     "name": "stdout",
     "output_type": "stream",
     "text": [
      "['Apple', 'Mango', 'Papaya', 'Grapes', 'Strawberry', 'Orange', 'Watermelon', 'Banana', 'Watermelon']\n"
     ]
    }
   ],
   "source": [
    "#extend function\n",
    "list2=[\"Banana\",\"Watermelon\"]\n",
    "list.extend(list2)\n",
    "print(list)"
   ]
  },
  {
   "cell_type": "code",
   "execution_count": 21,
   "metadata": {},
   "outputs": [
    {
     "name": "stdout",
     "output_type": "stream",
     "text": [
      "4\n"
     ]
    }
   ],
   "source": [
    "#index function\n",
    "index=list.index(\"Orange\")\n",
    "print(index)"
   ]
  },
  {
   "cell_type": "code",
   "execution_count": 22,
   "metadata": {},
   "outputs": [
    {
     "name": "stdout",
     "output_type": "stream",
     "text": [
      "['Apple', 'Mango', 'Papaya', 'Grapes', 'Strawberry', 'Orange', 'Banana', 'Watermelon']\n"
     ]
    }
   ],
   "source": [
    "#insert function\n",
    "list.insert(4,\"Strawberry\")\n",
    "print(list)"
   ]
  },
  {
   "cell_type": "code",
   "execution_count": 24,
   "metadata": {},
   "outputs": [
    {
     "name": "stdout",
     "output_type": "stream",
     "text": [
      "['Apple', 'Mango', 'Papaya', 'Grapes', 'Strawberry', 'Orange', 'Banana', 'Watermelon']\n"
     ]
    }
   ],
   "source": [
    "#reverse function\n",
    "list.reverse()\n",
    "print(list)"
   ]
  },
  {
   "cell_type": "code",
   "execution_count": 28,
   "metadata": {},
   "outputs": [
    {
     "name": "stdout",
     "output_type": "stream",
     "text": [
      "['Apple', 'Mango', 'Papaya', 'Grapes', 'Strawberry', 'Orange', 'Watermelon', 'Watermelon']\n"
     ]
    }
   ],
   "source": [
    "#remove function\n",
    "list.remove(\"Banana\")\n",
    "print(list)"
   ]
  },
  {
   "cell_type": "code",
   "execution_count": 29,
   "metadata": {},
   "outputs": [
    {
     "name": "stdout",
     "output_type": "stream",
     "text": [
      "['Apple', 'Mango', 'Papaya', 'Grapes', 'Strawberry', 'Orange', 'Watermelon']\n"
     ]
    }
   ],
   "source": [
    "#pop function\n",
    "list.pop(6)\n",
    "print(list)"
   ]
  },
  {
   "cell_type": "code",
   "execution_count": 30,
   "metadata": {},
   "outputs": [
    {
     "name": "stdout",
     "output_type": "stream",
     "text": [
      "['Apple', 'Grapes', 'Mango', 'Orange', 'Papaya', 'Strawberry', 'Watermelon']\n"
     ]
    }
   ],
   "source": [
    "#sort function\n",
    "list.sort()\n",
    "print(list)"
   ]
  }
 ],
 "metadata": {
  "kernelspec": {
   "display_name": "Python 3",
   "language": "python",
   "name": "python3"
  },
  "language_info": {
   "codemirror_mode": {
    "name": "ipython",
    "version": 3
   },
   "file_extension": ".py",
   "mimetype": "text/x-python",
   "name": "python",
   "nbconvert_exporter": "python",
   "pygments_lexer": "ipython3",
   "version": "3.7.3"
  }
 },
 "nbformat": 4,
 "nbformat_minor": 4
}
