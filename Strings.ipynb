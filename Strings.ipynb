{
 "cells": [
  {
   "cell_type": "code",
   "execution_count": 8,
   "metadata": {},
   "outputs": [
    {
     "name": "stdout",
     "output_type": "stream",
     "text": [
      "3 l found\n",
      "2 o found\n"
     ]
    }
   ],
   "source": [
    "# Iterating through a string\n",
    "str='Hello World'\n",
    "count1 = 0\n",
    "count2 = 0\n",
    "for letter in str:\n",
    "    if(letter == 'l'):\n",
    "        count1 += 1\n",
    "    elif(letter == 'o'):\n",
    "        count2 += 1\n",
    "print(count1,'l found')\n",
    "print(count2,'o found')"
   ]
  },
  {
   "cell_type": "code",
   "execution_count": 9,
   "metadata": {},
   "outputs": [
    {
     "name": "stdout",
     "output_type": "stream",
     "text": [
      "2 O found\n",
      "0 o found\n"
     ]
    }
   ],
   "source": [
    "# Iterating through a string\n",
    "str='ApOOrva'\n",
    "count1 = 0\n",
    "count2 = 0\n",
    "for letter in str:\n",
    "    if(letter == 'O'): #Capital O\n",
    "        count1 += 1\n",
    "    elif(letter == 'o'): #Small o\n",
    "        count2 += 1\n",
    "print(count1,'O found')\n",
    "print(count2,'o found') #Case sensitive example"
   ]
  },
  {
   "cell_type": "code",
   "execution_count": 10,
   "metadata": {},
   "outputs": [
    {
     "name": "stdout",
     "output_type": "stream",
     "text": [
      "7\n"
     ]
    }
   ],
   "source": [
    "len1=len(str)\n",
    "print (len1)"
   ]
  },
  {
   "cell_type": "code",
   "execution_count": 12,
   "metadata": {},
   "outputs": [
    {
     "name": "stdout",
     "output_type": "stream",
     "text": [
      "apoorva\n"
     ]
    }
   ],
   "source": [
    "x=str.casefold() #Change in lowercase\n",
    "print(x)"
   ]
  },
  {
   "cell_type": "code",
   "execution_count": 13,
   "metadata": {},
   "outputs": [
    {
     "name": "stdout",
     "output_type": "stream",
     "text": [
      "Apoorva\n"
     ]
    }
   ],
   "source": [
    "y=x.capitalize() #Changes the first letter in Uppercase\n",
    "print(y)"
   ]
  },
  {
   "cell_type": "code",
   "execution_count": 14,
   "metadata": {},
   "outputs": [
    {
     "name": "stdout",
     "output_type": "stream",
     "text": [
      "aPOORVA\n"
     ]
    }
   ],
   "source": [
    "z=y.swapcase() #Changes the case\n",
    "print(z)"
   ]
  },
  {
   "cell_type": "code",
   "execution_count": null,
   "metadata": {},
   "outputs": [],
   "source": []
  }
 ],
 "metadata": {
  "kernelspec": {
   "display_name": "Python 3",
   "language": "python",
   "name": "python3"
  },
  "language_info": {
   "codemirror_mode": {
    "name": "ipython",
    "version": 3
   },
   "file_extension": ".py",
   "mimetype": "text/x-python",
   "name": "python",
   "nbconvert_exporter": "python",
   "pygments_lexer": "ipython3",
   "version": "3.7.3"
  }
 },
 "nbformat": 4,
 "nbformat_minor": 4
}
