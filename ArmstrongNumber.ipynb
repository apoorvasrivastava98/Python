{
 "cells": [
  {
   "cell_type": "code",
   "execution_count": 10,
   "metadata": {},
   "outputs": [
    {
     "name": "stdin",
     "output_type": "stream",
     "text": [
      "Enter a number:  153\n"
     ]
    },
    {
     "name": "stdout",
     "output_type": "stream",
     "text": [
      "Sum = 153\n",
      "It is an Armstrong number\n"
     ]
    }
   ],
   "source": [
    "def armstrong(num):\n",
    "    n=num\n",
    "    sum=0\n",
    "    while num > 0:\n",
    "        r=num%10\n",
    "        sum=sum+r*r*r\n",
    "        num=num//10\n",
    "    print(\"Sum =\",sum)\n",
    "        \n",
    "    if n==sum:\n",
    "        print('It is an Armstrong number')\n",
    "    else:\n",
    "        print('It is Not an Armstrong number')\n",
    "        \n",
    "\n",
    "num = int(input(\"Enter a number: \"))\n",
    "armstrong(num)"
   ]
  },
  {
   "cell_type": "code",
   "execution_count": null,
   "metadata": {},
   "outputs": [],
   "source": []
  }
 ],
 "metadata": {
  "kernelspec": {
   "display_name": "Python 3",
   "language": "python",
   "name": "python3"
  },
  "language_info": {
   "codemirror_mode": {
    "name": "ipython",
    "version": 3
   },
   "file_extension": ".py",
   "mimetype": "text/x-python",
   "name": "python",
   "nbconvert_exporter": "python",
   "pygments_lexer": "ipython3",
   "version": "3.7.3"
  }
 },
 "nbformat": 4,
 "nbformat_minor": 4
}
