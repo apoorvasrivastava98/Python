{
 "cells": [
  {
   "cell_type": "code",
   "execution_count": 15,
   "metadata": {},
   "outputs": [
    {
     "name": "stdout",
     "output_type": "stream",
     "text": [
      "Hello. \n",
      " My name is Apoorva. \n",
      "  I am from Maldives.\n",
      "   K.Bye. \n",
      "    :P\n"
     ]
    }
   ],
   "source": [
    "#Use the words mysillyobject and myidiotobject instead of self:\n",
    "class Person:\n",
    "    def __init__(mysillyobject, name, city):\n",
    "        mysillyobject.name = name\n",
    "        mysillyobject.city = city\n",
    "\n",
    "    def myfunc(myidiotobject):\n",
    "        print(\"Hello. \\n My name is \" + myidiotobject.name +\". \\n  I am from \" + myidiotobject.city + \".\\n   K.Bye. \\n    :P\")\n",
    "\n",
    "p1 = Person(\"Apoorva\", \"Maldives\")\n",
    "p1.myfunc()"
   ]
  },
  {
   "cell_type": "code",
   "execution_count": null,
   "metadata": {},
   "outputs": [],
   "source": []
  }
 ],
 "metadata": {
  "kernelspec": {
   "display_name": "Python 3",
   "language": "python",
   "name": "python3"
  },
  "language_info": {
   "codemirror_mode": {
    "name": "ipython",
    "version": 3
   },
   "file_extension": ".py",
   "mimetype": "text/x-python",
   "name": "python",
   "nbconvert_exporter": "python",
   "pygments_lexer": "ipython3",
   "version": "3.7.3"
  }
 },
 "nbformat": 4,
 "nbformat_minor": 4
}
