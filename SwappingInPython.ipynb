{
 "cells": [
  {
   "cell_type": "code",
   "execution_count": 1,
   "metadata": {},
   "outputs": [
    {
     "name": "stdout",
     "output_type": "stream",
     "text": [
      "Value of x: 20\n",
      "Value of y: 10\n"
     ]
    }
   ],
   "source": [
    "#4 ways to swap in python\n",
    "## (1) Using Naive Approach\n",
    "x=10\n",
    "y=20\n",
    "temp=x\n",
    "x=y\n",
    "y=temp\n",
    "print(\"Value of x:\",x)\n",
    "print(\"Value of y:\",y)"
   ]
  },
  {
   "cell_type": "code",
   "execution_count": 2,
   "metadata": {},
   "outputs": [
    {
     "name": "stdout",
     "output_type": "stream",
     "text": [
      "Value of x: 20\n",
      "Value of y: 10\n"
     ]
    }
   ],
   "source": [
    "## (2) Using Comma Operator\n",
    "x=10\n",
    "y=20\n",
    "x,y=y,x\n",
    "print(\"Value of x:\",x)\n",
    "print(\"Value of y:\",y)"
   ]
  },
  {
   "cell_type": "code",
   "execution_count": 3,
   "metadata": {},
   "outputs": [
    {
     "name": "stdout",
     "output_type": "stream",
     "text": [
      "Value of x: 20\n",
      "Value of y: 10\n"
     ]
    }
   ],
   "source": [
    "## (3) Using XOR\n",
    "x=10\n",
    "y=20\n",
    "x=x^y\n",
    "y=x^y\n",
    "x=x^y\n",
    "print(\"Value of x:\",x)\n",
    "print(\"Value of y:\",y)"
   ]
  },
  {
   "cell_type": "code",
   "execution_count": 4,
   "metadata": {},
   "outputs": [
    {
     "name": "stdout",
     "output_type": "stream",
     "text": [
      "Value of x: 20\n",
      "Value of y: 10\n"
     ]
    }
   ],
   "source": [
    "## (4) Using Arithmetic Operator\n",
    "x=10\n",
    "y=20\n",
    "x=x+y\n",
    "y=x-y\n",
    "x=x-y\n",
    "print(\"Value of x:\",x)\n",
    "print(\"Value of y:\",y)"
   ]
  }
 ],
 "metadata": {
  "kernelspec": {
   "display_name": "Python 3",
   "language": "python",
   "name": "python3"
  },
  "language_info": {
   "codemirror_mode": {
    "name": "ipython",
    "version": 3
   },
   "file_extension": ".py",
   "mimetype": "text/x-python",
   "name": "python",
   "nbconvert_exporter": "python",
   "pygments_lexer": "ipython3",
   "version": "3.7.3"
  }
 },
 "nbformat": 4,
 "nbformat_minor": 4
}
