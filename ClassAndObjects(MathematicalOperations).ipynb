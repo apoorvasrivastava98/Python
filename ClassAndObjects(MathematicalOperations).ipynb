{
 "cells": [
  {
   "cell_type": "code",
   "execution_count": 6,
   "metadata": {},
   "outputs": [
    {
     "name": "stdout",
     "output_type": "stream",
     "text": [
      "Sum of three numbers 9\n",
      "Multiplication of three numbers 24\n"
     ]
    }
   ],
   "source": [
    "class MathematicalOperations:\n",
    "    def __init__(self,a,b,c):\n",
    "        self.a=a\n",
    "        self.b=b\n",
    "        self.c=c\n",
    "    def add(self):\n",
    "        print(\"Sum of three numbers\",self.a+self.b+self.c)\n",
    "    def mul(self):\n",
    "        print(\"Multiplication of three numbers\",self.a*self.b*self.c)\n",
    "        \n",
    "obj=MathematicalOperations(2,3,4)\n",
    "obj.add()\n",
    "obj.mul()"
   ]
  },
  {
   "cell_type": "code",
   "execution_count": 9,
   "metadata": {},
   "outputs": [
    {
     "name": "stdout",
     "output_type": "stream",
     "text": [
      "Sum of three numbers 9\n",
      "Multiplication of three numbers 24\n"
     ]
    }
   ],
   "source": [
    "class MathematicalOperations:\n",
    "    def add(self,a,b,c):\n",
    "        print(\"Sum of three numbers\",a+b+c)\n",
    "    def mul(self,a,b,c):\n",
    "        print(\"Multiplication of three numbers\",a*b*c)\n",
    "        \n",
    "obj=MathematicalOperations()\n",
    "obj.add(2,3,4)\n",
    "obj.mul(2,3,4)"
   ]
  },
  {
   "cell_type": "code",
   "execution_count": 13,
   "metadata": {},
   "outputs": [
    {
     "name": "stdout",
     "output_type": "stream",
     "text": [
      "Sum of three numbers 42\n",
      "Multiplication of three numbers 1344\n"
     ]
    }
   ],
   "source": [
    "class MathematicalOperations:\n",
    "    def __init__(self,a,b,c):\n",
    "        self.a=a\n",
    "        self.b=b\n",
    "        self.c=c\n",
    "    def add(self):\n",
    "        print(\"Sum of three numbers\",self.a+self.b+self.c)\n",
    "    def mul(self):\n",
    "        print(\"Multiplication of three numbers\",self.a*self.b*self.c)\n",
    "        \n",
    "obj=MathematicalOperations(4,14,24)\n",
    "obj.add()\n",
    "obj.mul()"
   ]
  },
  {
   "cell_type": "code",
   "execution_count": 14,
   "metadata": {},
   "outputs": [
    {
     "name": "stdout",
     "output_type": "stream",
     "text": [
      "Sum of two numbers 5\n",
      "Sum of two numbers 10\n"
     ]
    }
   ],
   "source": [
    "class Add:\n",
    "    def add(self,a=None,b=None,c=None):\n",
    "        if a!=None and b!=None and c==None:\n",
    "            print(\"Sum of two numbers\",a+b)\n",
    "        if a!=None and b!=None and c!=None:\n",
    "            print(\"Sum of two numbers\",a+b+c)\n",
    "            \n",
    "x=Add()\n",
    "x.add(2,3)\n",
    "x.add(2,3,5)"
   ]
  },
  {
   "cell_type": "code",
   "execution_count": null,
   "metadata": {},
   "outputs": [],
   "source": []
  }
 ],
 "metadata": {
  "kernelspec": {
   "display_name": "Python 3",
   "language": "python",
   "name": "python3"
  },
  "language_info": {
   "codemirror_mode": {
    "name": "ipython",
    "version": 3
   },
   "file_extension": ".py",
   "mimetype": "text/x-python",
   "name": "python",
   "nbconvert_exporter": "python",
   "pygments_lexer": "ipython3",
   "version": "3.7.3"
  }
 },
 "nbformat": 4,
 "nbformat_minor": 4
}
