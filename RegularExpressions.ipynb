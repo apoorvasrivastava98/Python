{
 "cells": [
  {
   "cell_type": "markdown",
   "metadata": {},
   "source": [
    "#Regular Expressions in Python"
   ]
  },
  {
   "cell_type": "code",
   "execution_count": 2,
   "metadata": {},
   "outputs": [],
   "source": [
    "import re"
   ]
  },
  {
   "cell_type": "code",
   "execution_count": 12,
   "metadata": {},
   "outputs": [
    {
     "name": "stdout",
     "output_type": "stream",
     "text": [
      "Match Successful\n"
     ]
    }
   ],
   "source": [
    "pattern=\"^A.....a$\" #STARTS WITH A AND ENDS WITH a \n",
    "test_string=\"Apoorva\"\n",
    "match=re.match(pattern,test_string)\n",
    "\n",
    "if match:\n",
    "    print(\"Match Successful\")\n",
    "else:\n",
    "    print(\"Match Unsuccessful\")"
   ]
  },
  {
   "cell_type": "code",
   "execution_count": 5,
   "metadata": {},
   "outputs": [
    {
     "name": "stdout",
     "output_type": "stream",
     "text": [
      "Match Successful\n"
     ]
    }
   ],
   "source": [
    "# ^ is used to check string starts with \n",
    "# $ is used to check string ends with\n",
    "# . is used to check number of characters\n",
    "search=re.search(pattern,test_string,flags=0)\n",
    "if search:\n",
    "    print(\"Match Successful\")\n",
    "else:\n",
    "    print(\"Match Unsuccessful\")"
   ]
  },
  {
   "cell_type": "code",
   "execution_count": 6,
   "metadata": {},
   "outputs": [
    {
     "name": "stdout",
     "output_type": "stream",
     "text": [
      "Match Unsuccessful\n"
     ]
    }
   ],
   "source": [
    "pattern=\"^a.....a$\"  #STARTS WITH a AND ENDS WITH a (It is CASE SENSITIVE)\n",
    "test_string=\"Apoorva\"\n",
    "match=re.match(pattern,test_string)\n",
    "\n",
    "if match:\n",
    "    print(\"Match Successful\")\n",
    "else:\n",
    "    print(\"Match Unsuccessful\")"
   ]
  },
  {
   "cell_type": "code",
   "execution_count": 11,
   "metadata": {},
   "outputs": [
    {
     "name": "stdout",
     "output_type": "stream",
     "text": [
      "Match Successful\n"
     ]
    }
   ],
   "source": [
    "pattern=\"[Apoo]\"  #SQUARE BRACKETS specifies a set of characters you wish to match.\n",
    "test_string=\"Apoorva\"\n",
    "match=re.match(pattern,test_string)\n",
    "\n",
    "if match:\n",
    "    print(\"Match Successful\")\n",
    "else:\n",
    "    print(\"Match Unsuccessful\")"
   ]
  },
  {
   "cell_type": "code",
   "execution_count": 19,
   "metadata": {},
   "outputs": [
    {
     "name": "stdout",
     "output_type": "stream",
     "text": [
      "Match Unsuccessful\n",
      "Match Unsuccessful\n",
      "Match Unsuccessful\n",
      "Match Successful\n"
     ]
    }
   ],
   "source": [
    "pattern=\"^po*r\"  # * matches zero or more occurrences of the pattern left to it\n",
    "pattern1=\"^po*o\"\n",
    "test_string=\"Apoorva\"\n",
    "match=re.match(pattern,test_string)\n",
    "\n",
    "if match:\n",
    "    print(\"Match Successful\")\n",
    "else:\n",
    "    print(\"Match Unsuccessful\")\n",
    "    \n",
    "match1=re.match(pattern1,test_string)\n",
    "\n",
    "if match1:\n",
    "    print(\"Match Successful\")\n",
    "else:\n",
    "    print(\"Match Unsuccessful\")\n",
    "\n",
    "pattern2=\"po*o\"\n",
    "match2=re.match(pattern2,test_string)\n",
    "\n",
    "if match2:\n",
    "    print(\"Match Successful\")\n",
    "else:\n",
    "    print(\"Match Unsuccessful\")\n",
    "    \n",
    "pattern3=\"Apoo*rva\"\n",
    "match=re.match(pattern3,test_string)\n",
    "\n",
    "if match:\n",
    "    print(\"Match Successful\")\n",
    "else:\n",
    "    print(\"Match Unsuccessful\")"
   ]
  },
  {
   "cell_type": "code",
   "execution_count": 23,
   "metadata": {},
   "outputs": [
    {
     "name": "stdout",
     "output_type": "stream",
     "text": [
      "Match Unsuccessful\n",
      "Match Unsuccessful\n"
     ]
    }
   ],
   "source": [
    "pattern=\"po+o\" # + is used to check one or more ocuurences\n",
    "match=re.match(pattern,test_string)\n",
    "\n",
    "if match:\n",
    "    print(\"Match Successful\")\n",
    "else:\n",
    "    print(\"Match Unsuccessful\")\n",
    "\n",
    "pattern1=\"Apoo+rva\"\n",
    "match1=re.match(pattern1,test_string)\n",
    "\n",
    "if match1:\n",
    "    print(\"Match Successful\")\n",
    "else:\n",
    "    print(\"Match Unsuccessful\")"
   ]
  },
  {
   "cell_type": "code",
   "execution_count": 24,
   "metadata": {},
   "outputs": [
    {
     "name": "stdout",
     "output_type": "stream",
     "text": [
      "Match Unsuccessful\n"
     ]
    }
   ],
   "source": [
    "pattern=\"o{2,3}\"\n",
    "match=re.match(pattern,test_string)\n",
    "\n",
    "if match:\n",
    "    print(\"Match Successful\")\n",
    "else:\n",
    "    print(\"Match Unsuccessful\")"
   ]
  },
  {
   "cell_type": "code",
   "execution_count": 25,
   "metadata": {},
   "outputs": [
    {
     "name": "stdout",
     "output_type": "stream",
     "text": [
      "Match Unsuccessful\n",
      "Match Unsuccessful\n"
     ]
    }
   ],
   "source": [
    "pattern=\"[0-9]{2, 4}\"\n",
    "test_string=\"ab123csde\"\n",
    "match=re.match(pattern,test_string)\n",
    "if match:\n",
    "    print(\"Match Successful\")\n",
    "else:\n",
    "    print(\"Match Unsuccessful\")\n",
    "\n",
    "test_string1=\"12 and 345673\"\n",
    "match1=re.match(pattern,test_string1)\n",
    "if match1:\n",
    "    print(\"Match Successful\")\n",
    "else:\n",
    "    print(\"Match Unsuccessful\")"
   ]
  },
  {
   "cell_type": "code",
   "execution_count": null,
   "metadata": {},
   "outputs": [],
   "source": []
  }
 ],
 "metadata": {
  "kernelspec": {
   "display_name": "Python 3",
   "language": "python",
   "name": "python3"
  },
  "language_info": {
   "codemirror_mode": {
    "name": "ipython",
    "version": 3
   },
   "file_extension": ".py",
   "mimetype": "text/x-python",
   "name": "python",
   "nbconvert_exporter": "python",
   "pygments_lexer": "ipython3",
   "version": "3.7.3"
  }
 },
 "nbformat": 4,
 "nbformat_minor": 4
}
