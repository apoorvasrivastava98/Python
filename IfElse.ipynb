{
 "cells": [
  {
   "cell_type": "code",
   "execution_count": 7,
   "metadata": {},
   "outputs": [
    {
     "name": "stdin",
     "output_type": "stream",
     "text": [
      "Enter a Number: 2\n"
     ]
    },
    {
     "name": "stdout",
     "output_type": "stream",
     "text": [
      "Tuesday\n"
     ]
    }
   ],
   "source": [
    "#Days of a week\n",
    "n=int(input(\"Enter a Number:\"))\n",
    "if n == 1:\n",
    "    print(\"Monday\")\n",
    "elif n == 2:\n",
    "    print(\"Tuesday\")\n",
    "elif n == 3:\n",
    "    print(\"Wednesday\")\n",
    "elif n == 4:\n",
    "    print(\"Thursday\")\n",
    "elif n == 5:\n",
    "    print(\"Friday\")\n",
    "elif n == 6:\n",
    "    print(\"Saturday\")\n",
    "elif n == 7:\n",
    "    print(\"Sunday\")\n",
    "else:\n",
    "    print(\"Enter a valid number\")"
   ]
  },
  {
   "cell_type": "code",
   "execution_count": 9,
   "metadata": {},
   "outputs": [
    {
     "name": "stdin",
     "output_type": "stream",
     "text": [
      "Enter a Number: 4\n"
     ]
    },
    {
     "name": "stdout",
     "output_type": "stream",
     "text": [
      "This number is even\n"
     ]
    }
   ],
   "source": [
    "#Check Even Odd Number \n",
    "n=int(input(\"Enter a Number:\"))\n",
    "if n % 2 == 0:\n",
    "    print(\"This number is even\")\n",
    "else:\n",
    "    print(\"This number is odd\")"
   ]
  },
  {
   "cell_type": "code",
   "execution_count": 18,
   "metadata": {},
   "outputs": [
    {
     "name": "stdin",
     "output_type": "stream",
     "text": [
      "Enter the first number: 11\n",
      "Enter the second number: 20\n"
     ]
    },
    {
     "name": "stdout",
     "output_type": "stream",
     "text": [
      "11 is greater than 10\n",
      "20 is also greater than 10\n"
     ]
    }
   ],
   "source": [
    "#Nested Decisions\n",
    "x=int(input(\"Enter the first number:\"))\n",
    "y=int(input(\"Enter the second number:\"))\n",
    "if x > 10:\n",
    "    print(x,\"is greater than 10\")\n",
    "    if y > 10:\n",
    "        print(y,\"is also greater than 10\")\n",
    "elif x < 10:\n",
    "    print(x,\"is less than 10\")\n",
    "    if y > 10:\n",
    "        print(y,\"is greater than 10\")    \n",
    "elif x > 10:\n",
    "    print(x,\"is greater than 10\")\n",
    "    if y < 10:\n",
    "        print(y,\"is less than 10\")"
   ]
  },
  {
   "cell_type": "code",
   "execution_count": null,
   "metadata": {},
   "outputs": [],
   "source": []
  }
 ],
 "metadata": {
  "kernelspec": {
   "display_name": "Python 3",
   "language": "python",
   "name": "python3"
  },
  "language_info": {
   "codemirror_mode": {
    "name": "ipython",
    "version": 3
   },
   "file_extension": ".py",
   "mimetype": "text/x-python",
   "name": "python",
   "nbconvert_exporter": "python",
   "pygments_lexer": "ipython3",
   "version": "3.7.3"
  }
 },
 "nbformat": 4,
 "nbformat_minor": 4
}
